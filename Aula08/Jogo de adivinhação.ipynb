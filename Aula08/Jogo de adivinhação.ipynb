{
 "cells": [
  {
   "cell_type": "markdown",
   "id": "e6ff8a2a-aa48-4abd-aaab-1ec3286b8595",
   "metadata": {},
   "source": [
    "Desenvolvimento de um Jogo de Adivinhar Números em Python"
   ]
  },
  {
   "cell_type": "code",
   "execution_count": 2,
   "id": "be51c33e-b971-491e-b578-83d259608879",
   "metadata": {},
   "outputs": [
    {
     "name": "stdin",
     "output_type": "stream",
     "text": [
      "Insira o seu palpite (número entre 1 e 50): 38\n"
     ]
    },
    {
     "name": "stdout",
     "output_type": "stream",
     "text": [
      "Seu palpite foi maior. Por gentileza, tente um número menor!\n"
     ]
    },
    {
     "name": "stdin",
     "output_type": "stream",
     "text": [
      "Insira o seu palpite (número entre 1 e 50): 25\n"
     ]
    },
    {
     "name": "stdout",
     "output_type": "stream",
     "text": [
      "Seu palpite foi maior. Por gentileza, tente um número menor!\n",
      "Você chegou ao limite de tentativas! Obrigado pela participação\n"
     ]
    }
   ],
   "source": [
    "from random import randint\n",
    "\n",
    "numero_aleatorio = randint (1,50)\n",
    "\n",
    "tentativas_do_usuario = 0\n",
    "\n",
    "while True:\n",
    "    if tentativas_do_usuario > 2:\n",
    "        print(\"Você chegou ao limite de tentativas! Obrigado pela participação\")\n",
    "        break\n",
    "    palpite = int(input(\"Insira o seu palpite (número entre 1 e 50):\"))\n",
    "    tentativas_do_usuario += 2\n",
    "    if palpite == numero_aleatorio:\n",
    "        print(\"Parabéns!!! Você acertou\")\n",
    "        break\n",
    "    elif palpite > numero_aleatorio:\n",
    "        print(\"Seu palpite foi maior. Por gentileza, tente um número menor!\")\n",
    "    else:\n",
    "        print(\"Seu palpite foi menor. Por gentileza, tente um número maior!\")"
   ]
  },
  {
   "cell_type": "markdown",
   "id": "df722045-ef8f-4fcc-b3ee-624c9a5a520f",
   "metadata": {},
   "source": [
    "Aumentando a dificuldade: Inserindo o feedback quente ou frio"
   ]
  },
  {
   "cell_type": "code",
   "execution_count": null,
   "id": "26182848-15fb-4111-aab4-797b756c4a27",
   "metadata": {},
   "outputs": [
    {
     "name": "stdin",
     "output_type": "stream",
     "text": [
      "Digite um palpite <entre 1 e 100>:  50\n"
     ]
    },
    {
     "name": "stdout",
     "output_type": "stream",
     "text": [
      "Seu palpite foi maior. Tente um número menor!\n",
      "Seu palpite está  QUENTE\n"
     ]
    },
    {
     "name": "stdin",
     "output_type": "stream",
     "text": [
      "Digite um palpite <entre 1 e 100>:  45\n"
     ]
    },
    {
     "name": "stdout",
     "output_type": "stream",
     "text": [
      "Seu palpite foi menor. Tente um número maior!\n",
      "Seu palpite está  QUENTE\n"
     ]
    },
    {
     "name": "stdin",
     "output_type": "stream",
     "text": [
      "Digite um palpite <entre 1 e 100>:  47\n"
     ]
    },
    {
     "name": "stdout",
     "output_type": "stream",
     "text": [
      "Seu palpite foi menor. Tente um número maior!\n",
      "Seu palpite está  QUENTE\n"
     ]
    },
    {
     "name": "stdin",
     "output_type": "stream",
     "text": [
      "Digite um palpite <entre 1 e 100>:  48\n"
     ]
    },
    {
     "name": "stdout",
     "output_type": "stream",
     "text": [
      "Seu palpite foi menor. Tente um número maior!\n",
      "Seu palpite está  QUENTE\n"
     ]
    },
    {
     "name": "stdin",
     "output_type": "stream",
     "text": [
      "Digite um palpite <entre 1 e 100>:  49\n"
     ]
    },
    {
     "name": "stdout",
     "output_type": "stream",
     "text": [
      "Parabéns! Você acertou!!\n"
     ]
    }
   ],
   "source": [
    "n = randint(1, 100)\n",
    "\n",
    "while True:\n",
    "    # Carregar em uma variável o valor aleatório\n",
    "    n = randint(1, 100)\n",
    "    while True:\n",
    "        # Solicita um papite para o usuário\n",
    "        p = int(input(\"Digite um palpite <entre 1 e 100>: \"))   \n",
    "        # Compara o palpite com o número sorteado (aleatório)\n",
    "        d = abs(p - n)\n",
    "        if d > 5:\n",
    "            qf = \"FRIO\"\n",
    "        else:\n",
    "            qf = \"QUENTE\"\n",
    "        if p == n:\n",
    "            print(\"Parabéns! Você acertou!!\")\n",
    "            break\n",
    "        elif p > n:\n",
    "            print(\"Seu palpite foi maior. Tente um número menor!\")\n",
    "        else:\n",
    "            print(\"Seu palpite foi menor. Tente um número maior!\")\n",
    "        print(\"Seu palpite está \", qf)\n",
    "    sn = input(\"Deseja continuar? S/N: \")\n",
    "    if sn == \"N\":\n",
    "        break"
   ]
  },
  {
   "cell_type": "code",
   "execution_count": null,
   "id": "92a3e9a2-0c9a-4a50-855c-a61aa8bac048",
   "metadata": {},
   "outputs": [],
   "source": []
  }
 ],
 "metadata": {
  "kernelspec": {
   "display_name": "Python [conda env:anaconda3]",
   "language": "python",
   "name": "conda-env-anaconda3-py"
  },
  "language_info": {
   "codemirror_mode": {
    "name": "ipython",
    "version": 3
   },
   "file_extension": ".py",
   "mimetype": "text/x-python",
   "name": "python",
   "nbconvert_exporter": "python",
   "pygments_lexer": "ipython3",
   "version": "3.13.5"
  }
 },
 "nbformat": 4,
 "nbformat_minor": 5
}
