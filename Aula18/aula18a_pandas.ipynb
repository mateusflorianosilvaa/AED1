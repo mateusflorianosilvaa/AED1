{
 "cells": [
  {
   "cell_type": "markdown",
   "id": "f736ffd4",
   "metadata": {},
   "source": [
    "# AULA 18 - Noções do pacote PANDAS -  parte A\n",
    "## Algoritmos e Estrutura de Dados I - Prof. Piva\n",
    "-----------"
   ]
  },
  {
   "cell_type": "markdown",
   "id": "5b80acaa",
   "metadata": {},
   "source": [
    "### Instalação do Pandas\n",
    "Podemos instalar uma versão específica do Pandas com o seguinte comando:\n",
    "**!pip install -q pandas==1.5.3**"
   ]
  },
  {
   "cell_type": "code",
   "execution_count": null,
   "id": "322d402e",
   "metadata": {},
   "outputs": [],
   "source": [
    "# Instalação de uma versão exata do pacote Pandas\n",
    "!pip install -q pandas==1.5.3"
   ]
  },
  {
   "cell_type": "code",
   "execution_count": null,
   "id": "14f5bb40",
   "metadata": {},
   "outputs": [],
   "source": [
    "# Importação do pacote Pandas para utilização\n",
    "import pandas as pd"
   ]
  },
  {
   "cell_type": "code",
   "execution_count": null,
   "id": "3355e13c",
   "metadata": {},
   "outputs": [],
   "source": [
    "# Verificando a versão do Pandas\n",
    "pd.__version__"
   ]
  },
  {
   "cell_type": "markdown",
   "id": "8385237f",
   "metadata": {},
   "source": [
    "### Manipulando dados em DataFrames"
   ]
  },
  {
   "cell_type": "code",
   "execution_count": null,
   "id": "c82cf75b",
   "metadata": {},
   "outputs": [],
   "source": [
    "# Criando um dicionário\n",
    "dados = {'Cidade': ['Sorocaba', 'Campinas', 'São Paulo', 'Ribeirão Preto', 'Jundiaí'],\n",
    "          'Ano': [2018, 2019, 2020, 2021, 2022],\n",
    "          'Taxa Desemprego': [1.6, 1.8, 1.9, 1.2, 1.0]}"
   ]
  },
  {
   "cell_type": "code",
   "execution_count": null,
   "id": "55cfde91",
   "metadata": {},
   "outputs": [],
   "source": [
    "from pandas import DataFrame"
   ]
  },
  {
   "cell_type": "code",
   "execution_count": null,
   "id": "e5b20f99",
   "metadata": {},
   "outputs": [],
   "source": [
    "# Converte um dicionário para um DataFrame\n",
    "df = DataFrame(dados)"
   ]
  },
  {
   "cell_type": "code",
   "execution_count": null,
   "id": "2593032e",
   "metadata": {},
   "outputs": [],
   "source": [
    "# Visualizar as 5  primeiras linhas do DataFrame criado\n",
    "df.head()"
   ]
  },
  {
   "cell_type": "code",
   "execution_count": null,
   "id": "5ec1e792",
   "metadata": {},
   "outputs": [],
   "source": [
    "#Verificando o tipo de dados do objeto df\n",
    "type(df)"
   ]
  },
  {
   "cell_type": "code",
   "execution_count": null,
   "id": "2578a4dc",
   "metadata": {},
   "outputs": [],
   "source": [
    "# Reorganizando as colunas do DataFrame\n",
    "DataFrame(dados, columns = ['Cidade', 'Taxa Desemprego', 'Ano'])"
   ]
  },
  {
   "cell_type": "code",
   "execution_count": null,
   "id": "a8551a9f",
   "metadata": {},
   "outputs": [],
   "source": [
    "#Criando um outro dataframe, com os mesmos dados anteriores, acrescentando uma coluna e mudando o índice.\n",
    "df2 = DataFrame(dados,\n",
    "                columns = ['Cidade', 'Taxa Desemprego', 'Taxa Crescimento', 'Ano'],\n",
    "                index = ['cidade1', 'cidade2', 'cidade3', 'cidade4', 'cidade5'])"
   ]
  },
  {
   "cell_type": "code",
   "execution_count": null,
   "id": "b5c70a23",
   "metadata": {},
   "outputs": [],
   "source": [
    "df2"
   ]
  },
  {
   "cell_type": "code",
   "execution_count": null,
   "id": "0e9228c0",
   "metadata": {},
   "outputs": [],
   "source": [
    "# Mostrar os valores do DataFrame\n",
    "df2.values"
   ]
  },
  {
   "cell_type": "code",
   "execution_count": null,
   "id": "9447ee2d",
   "metadata": {},
   "outputs": [],
   "source": [
    "# Mostrar os tipos de dados do DataFrame\n",
    "df2.dtypes"
   ]
  },
  {
   "cell_type": "code",
   "execution_count": null,
   "id": "fce2a355",
   "metadata": {},
   "outputs": [],
   "source": [
    "# Mostrar as colunas do DataFrame\n",
    "df2.columns"
   ]
  },
  {
   "cell_type": "code",
   "execution_count": null,
   "id": "44c318c9",
   "metadata": {},
   "outputs": [],
   "source": [
    "# Mostrando apenas uma coluna específica do DataFrame\n",
    "df2['Cidade']\n",
    "#Atenção: a linguagem Python é case sensitive"
   ]
  },
  {
   "cell_type": "code",
   "execution_count": null,
   "id": "85deaeb0",
   "metadata": {},
   "outputs": [],
   "source": [
    "# Se quiser mostrar mais de uma coluna, terá que passar os nomes das colunas dentro de uma lista.\n",
    "# Por exemplo... vamos mostrar as colunas: Cidade e Ano\n",
    "df2[ ['Cidade', 'Ano']]"
   ]
  },
  {
   "cell_type": "code",
   "execution_count": null,
   "id": "901897a3",
   "metadata": {},
   "outputs": [],
   "source": [
    "# Para exibir os índices...\n",
    "df2.index"
   ]
  },
  {
   "cell_type": "code",
   "execution_count": null,
   "id": "fa29af82",
   "metadata": {},
   "outputs": [],
   "source": [
    "#Filtrando os dados pelo índice\n",
    "df2.filter(items = ['cidade3'], axis = 0)"
   ]
  },
  {
   "cell_type": "markdown",
   "id": "117fcbef",
   "metadata": {},
   "source": [
    "### Usando Pandas com Numpy para Manipular Dados"
   ]
  },
  {
   "cell_type": "code",
   "execution_count": null,
   "id": "0b0daf05",
   "metadata": {},
   "outputs": [],
   "source": [
    "df2.head()"
   ]
  },
  {
   "cell_type": "code",
   "execution_count": null,
   "id": "6ba67676",
   "metadata": {},
   "outputs": [],
   "source": [
    "df2.dtypes"
   ]
  },
  {
   "cell_type": "code",
   "execution_count": null,
   "id": "712ebcab",
   "metadata": {},
   "outputs": [],
   "source": [
    "# Mostrando o resumo estatístico desse DataFrame\n",
    "df2.describe()\n",
    "# Atenção: O método describe() faz o resumo estatístico apenas das colunas numéricas"
   ]
  },
  {
   "cell_type": "code",
   "execution_count": null,
   "id": "22173eae",
   "metadata": {},
   "outputs": [],
   "source": [
    "#Verificando se existem valores NA (not available) no dataFrame\n",
    "df2.isna()"
   ]
  },
  {
   "cell_type": "code",
   "execution_count": null,
   "id": "a19ffa78",
   "metadata": {},
   "outputs": [],
   "source": [
    "# Para verificar apenas uma coluna específica...\n",
    "df2['Taxa Crescimento'].isna()"
   ]
  },
  {
   "cell_type": "markdown",
   "id": "2751925a",
   "metadata": {},
   "source": [
    "Vamos utilizar o Numpy para preencher esses valores ausentes."
   ]
  },
  {
   "cell_type": "code",
   "execution_count": null,
   "id": "8cb9b199",
   "metadata": {},
   "outputs": [],
   "source": [
    "#Importando o NumPy\n",
    "import numpy as np"
   ]
  },
  {
   "cell_type": "code",
   "execution_count": null,
   "id": "f8cf6663",
   "metadata": {},
   "outputs": [],
   "source": [
    "#Usando o NumPy para alimentar uma das colunas do dataFrame\n",
    "df2['Taxa Crescimento'] = np.arange(5.)"
   ]
  },
  {
   "cell_type": "code",
   "execution_count": null,
   "id": "bca9a11b",
   "metadata": {},
   "outputs": [],
   "source": [
    "df2"
   ]
  },
  {
   "cell_type": "code",
   "execution_count": null,
   "id": "66126734",
   "metadata": {},
   "outputs": [],
   "source": [
    "df2['Taxa Crescimento'].isna()"
   ]
  },
  {
   "cell_type": "code",
   "execution_count": null,
   "id": "316806a3",
   "metadata": {},
   "outputs": [],
   "source": [
    "#Resumo estatístico\n",
    "df2.describe()"
   ]
  },
  {
   "cell_type": "markdown",
   "id": "1af7afa9",
   "metadata": {},
   "source": [
    "### Fatiamento do DataFrame (slicing)"
   ]
  },
  {
   "cell_type": "code",
   "execution_count": null,
   "id": "1b33362e",
   "metadata": {},
   "outputs": [],
   "source": [
    "# Mostrando todo o dataFrame\n",
    "df2"
   ]
  },
  {
   "cell_type": "code",
   "execution_count": null,
   "id": "a519f043",
   "metadata": {},
   "outputs": [],
   "source": [
    "# Fatiando todas as linhas do índice cidade2 até cidade4\n",
    "df2['cidade2':'cidade4']\n",
    "#Atenção: veja que o segundo parâmetro do slice não é exclusivo... ele é incluso no retorno."
   ]
  },
  {
   "cell_type": "code",
   "execution_count": null,
   "id": "4d630e5e",
   "metadata": {},
   "outputs": [],
   "source": [
    "# Fatiamento do DataFrame com todos os dados onde Taxa de Desemprego for < 1.7\n",
    "df2[ df2['Taxa Desemprego'] < 1.7 ]\n",
    "# Quando eu utilizo colchetes é por que eu quero fatiar meu dataframe."
   ]
  },
  {
   "cell_type": "code",
   "execution_count": null,
   "id": "aeb3786d",
   "metadata": {},
   "outputs": [],
   "source": [
    "# Para fatiar por mais de uma coluna, temos que passar as colunas em uma lista python\n",
    "df2[ ['Taxa Crescimento', 'Taxa Desemprego'] ]"
   ]
  }
 ],
 "metadata": {
  "kernelspec": {
   "display_name": "Python 3 (ipykernel)",
   "language": "python",
   "name": "python3"
  },
  "language_info": {
   "codemirror_mode": {
    "name": "ipython",
    "version": 3
   },
   "file_extension": ".py",
   "mimetype": "text/x-python",
   "name": "python",
   "nbconvert_exporter": "python",
   "pygments_lexer": "ipython3",
   "version": "3.11.7"
  }
 },
 "nbformat": 4,
 "nbformat_minor": 5
}
