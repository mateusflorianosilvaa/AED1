{
 "cells": [
  {
   "cell_type": "markdown",
   "id": "c40e7ea3",
   "metadata": {},
   "source": [
    "# AULA 18 - Noções do pacote PANDAS -  parte B\n",
    "## Algoritmos e Estrutura de Dados I - Prof. Piva\n",
    "-----------"
   ]
  },
  {
   "cell_type": "markdown",
   "id": "c7cb7315",
   "metadata": {},
   "source": [
    "### Preenchendo Valores Ausentes em DataFrames com Pandas\n",
    "A função fillna() é utilizada para preencher valores ausentes em um dataframe.\n",
    "Oferece, para tanto, muitas opções: valores específicos, função agregada (media, moda etc), valor anterior, valor seguinte etc."
   ]
  },
  {
   "cell_type": "code",
   "execution_count": null,
   "id": "6c6ba8a2",
   "metadata": {},
   "outputs": [],
   "source": [
    "# Importando o Pandas\n",
    "import pandas as pd\n",
    "# Verificando a Versão do Pandas\n",
    "pd.__version__"
   ]
  },
  {
   "cell_type": "code",
   "execution_count": null,
   "id": "2b0e4f5d",
   "metadata": {},
   "outputs": [],
   "source": [
    "# Importando um dataset que está em um arquivo CSV\n",
    "df = pd.read_csv(\"dataset.csv\")"
   ]
  },
  {
   "cell_type": "code",
   "execution_count": null,
   "id": "6bdde15e",
   "metadata": {},
   "outputs": [],
   "source": [
    "df.head(5)"
   ]
  },
  {
   "cell_type": "code",
   "execution_count": null,
   "id": "634b7068",
   "metadata": {},
   "outputs": [],
   "source": [
    "# Verificando a quantidade de valores ausentes no dataFrame\n",
    "df.isna().sum()"
   ]
  },
  {
   "cell_type": "code",
   "execution_count": null,
   "id": "48b3a3d7",
   "metadata": {},
   "outputs": [],
   "source": [
    "# Calculando a Moda (moda é uma medida estatística que representa o elemento que mais se repete no conjunto de dados)\n",
    "# No caso, vamos retornar a moda da coluna 'Quantidade'\n",
    "# Pesso para contar todos os valores com value_counts()\n",
    "# Em seguida, eu vou retornar a posição 0 (o primeiro elemento) - que é o que mais se repete (maior qtd)\n",
    "moda = df['Quantidade'].value_counts().index[0]"
   ]
  },
  {
   "cell_type": "code",
   "execution_count": null,
   "id": "f265543d",
   "metadata": {},
   "outputs": [],
   "source": [
    "print(moda)"
   ]
  },
  {
   "cell_type": "code",
   "execution_count": null,
   "id": "a2943ff1",
   "metadata": {},
   "outputs": [],
   "source": [
    "# Vamos preencher os valores ausentes com esse valor da moda.\n",
    "# vamos utilizar a função fillna()\n",
    "df['Quantidade'].fillna(value = moda, inplace = True)\n",
    "\n",
    "# o parâmetro nomeado inplace é utilizado para Salvar o resultado no mesmo dataframe. \n",
    "# Se não utilizarmos o parâmetro como True, ele irá realizar a operação e criar uma cópia do dataframe\n",
    "# Não alterará o dataframe original. Isso é padrão no Pandas (qualquer operação ele sempre realiza, criando uma cópia do df)"
   ]
  },
  {
   "cell_type": "code",
   "execution_count": null,
   "id": "d97db536",
   "metadata": {},
   "outputs": [],
   "source": [
    "df.isna().sum()"
   ]
  },
  {
   "cell_type": "markdown",
   "id": "fb0f1175",
   "metadata": {},
   "source": [
    "Esta estratégia de preenchimento chama-se **INTERPOLAÇÃO**. Utilizamos uma medida estatística da coluna para preencher os valores ausentes."
   ]
  },
  {
   "cell_type": "markdown",
   "id": "0450a796",
   "metadata": {},
   "source": [
    "### Consulta de Dados no DataFrame Pandas (query)\n",
    "Os dataframes criados são tabelas. Como tal, podemos realizar consultas e retornar valores..."
   ]
  },
  {
   "cell_type": "code",
   "execution_count": null,
   "id": "cba33afd",
   "metadata": {},
   "outputs": [],
   "source": [
    "# Por exemplo... existe uma coluna: Valor_Venda  ... vamos entendê-la com describe()\n",
    "df.Valor_Venda.describe()"
   ]
  },
  {
   "cell_type": "markdown",
   "id": "3ffa0fe8",
   "metadata": {},
   "source": [
    "Veja que esse resumo estatístico nos trás informações importantes: valor mínimo: 0.44  Valor máximo: 22638.48\n",
    "Valor médio: 229,85"
   ]
  },
  {
   "cell_type": "code",
   "execution_count": null,
   "id": "75a78153",
   "metadata": {},
   "outputs": [],
   "source": [
    "# Vamos fazer uma consulta com a função query().\n",
    "df2 = df.query('229 < Valor_Venda < 10000')"
   ]
  },
  {
   "cell_type": "code",
   "execution_count": null,
   "id": "1cac2e27",
   "metadata": {},
   "outputs": [],
   "source": [
    "df2.Valor_Venda.describe()"
   ]
  },
  {
   "cell_type": "code",
   "execution_count": null,
   "id": "aaab2442",
   "metadata": {},
   "outputs": [],
   "source": [
    "# Uma nova consulta, tomando como base esse segundo dataframe criado a partir da primeira consulta.\n",
    "df3 = df2.query('Valor_Venda > 766')"
   ]
  },
  {
   "cell_type": "code",
   "execution_count": null,
   "id": "ba748d8a",
   "metadata": {},
   "outputs": [],
   "source": [
    "df3.Valor_Venda.describe()"
   ]
  },
  {
   "cell_type": "code",
   "execution_count": null,
   "id": "c38b9294",
   "metadata": {},
   "outputs": [],
   "source": [
    "df3.head()"
   ]
  },
  {
   "cell_type": "markdown",
   "id": "aaacf781",
   "metadata": {},
   "source": [
    "### Verificando a Ocorrência de Valores em uma Coluna"
   ]
  },
  {
   "cell_type": "markdown",
   "id": "aabb0b09",
   "metadata": {},
   "source": [
    "No nosso dataset, existe uma coluna 'Quantidade', que representa a quantidade de itens vendidos em cada venda.\n",
    "Como podemos filtrar os dados, para identificar as vendas que tiveram quantidades vendidas iguais a 5, 9 ou 11 itens?\n",
    "Uma possibilidade é utilizarmos o método isin() para checar diversos valores em uma coluna (semelhante a cláusula IN em SQL)"
   ]
  },
  {
   "cell_type": "code",
   "execution_count": null,
   "id": "d05f2695",
   "metadata": {},
   "outputs": [],
   "source": [
    "#Verificando o shape (formato) do dataframe. Ele retornará o número de linhas e o número de colunas.\n",
    "df.shape"
   ]
  },
  {
   "cell_type": "code",
   "execution_count": null,
   "id": "a8fd12e1",
   "metadata": {},
   "outputs": [],
   "source": [
    "# Fazendo o filtro das quantidades de itens vendidos: 5, 9 e 11\n",
    "df[ df['Quantidade'].isin([5, 9, 11]) ]"
   ]
  },
  {
   "cell_type": "code",
   "execution_count": null,
   "id": "03ca5767",
   "metadata": {},
   "outputs": [],
   "source": [
    "# Podemos obter um shape, depois de um processo de fatiamento. Vamos pegar o exemplo anterior...\n",
    "df[ df['Quantidade'].isin([5, 9, 11]) ].shape"
   ]
  },
  {
   "cell_type": "code",
   "execution_count": null,
   "id": "7f2c2d7f",
   "metadata": {},
   "outputs": [],
   "source": [
    "# Podemos aplicar o filtro e retornar apenas uma parte do resultado. Por exemplo... vamor retornar apenas as 10 primeiras linhas\n",
    "df[ df['Quantidade'].isin([5, 9, 11]) ][:10]"
   ]
  },
  {
   "cell_type": "markdown",
   "id": "e4b418f2",
   "metadata": {},
   "source": [
    "### Trabalhando com Operadores Lógicos p/ Manipulação de Dados com Pandas\n",
    "AND, OR, NOT..."
   ]
  },
  {
   "cell_type": "code",
   "execution_count": null,
   "id": "3ab40c51",
   "metadata": {},
   "outputs": [],
   "source": [
    "# Vamos fazer um filtro das vendas que ocorreram para o segmento \"Home Office\" E na região \"South\"\n",
    "df[ (df.Segmento == 'Home Office') & (df.Regiao == 'South') ].head()"
   ]
  },
  {
   "cell_type": "code",
   "execution_count": null,
   "id": "55f65363",
   "metadata": {},
   "outputs": [],
   "source": [
    "# Vamos fazer um filtro das vendas que ocorreram para o segmento \"Home Office\" OU na região \"South\"\n",
    "df[ (df.Segmento == 'Home Office') | (df.Regiao == 'South') ].tail()"
   ]
  },
  {
   "cell_type": "code",
   "execution_count": null,
   "id": "68a5362c",
   "metadata": {},
   "outputs": [],
   "source": [
    "# Vamos fazer um filtro das vendas que NÃO ocorreram para o segmento \"Home Office\" E NÃO foram na região \"South\"\n",
    "df[ (df.Segmento != 'Home Office') & (df.Regiao != 'South') ].sample(5)\n",
    "# sample() retorna uma amostra"
   ]
  },
  {
   "cell_type": "markdown",
   "id": "5581e827",
   "metadata": {},
   "source": [
    "### Agrupamento de Dados em DataFrames com GroupBy"
   ]
  },
  {
   "cell_type": "markdown",
   "id": "714687c3",
   "metadata": {},
   "source": [
    "Podemos utilizar a função groupby() do Pandas para explorar e revelar relacionamento entre variáveis em conjunto de dados.\n",
    "\n",
    "Vamos fazer a combinação dos dados por **Segmento / Região / Valor_Venda** e calcular a _taxa média_ de vendas de cada grupo."
   ]
  },
  {
   "cell_type": "code",
   "execution_count": null,
   "id": "89bbb768",
   "metadata": {},
   "outputs": [],
   "source": [
    "df[ ['Segmento', 'Regiao', 'Valor_Venda'] ].groupby( ['Segmento', 'Regiao'] ).mean()"
   ]
  },
  {
   "cell_type": "markdown",
   "id": "c108e8b9",
   "metadata": {},
   "source": [
    "### Agregação Múltipla com GroupBy\n",
    "Vamos utilizar agora a função agg() para realizar a agregação múltipla.\n",
    "\n",
    "Para tanto, vamos filtrar os dados, extraindo 3 colulas: Segmento, Região e Valor_Venda.\n",
    "Em seguida, vamos agrupar por duas colunas: Segmento e Região.\n",
    "Por fim, vamos agregar os dados, calculando média, desvio padrão e contagem de elementos, para a coluna que ficou fora do group by (Valor_Venda)."
   ]
  },
  {
   "cell_type": "code",
   "execution_count": null,
   "id": "5acf3648",
   "metadata": {},
   "outputs": [],
   "source": [
    "df[ ['Segmento', 'Regiao', 'Valor_Venda'] ].groupby( ['Segmento', 'Regiao'] ).agg(['mean', 'std', 'count'])"
   ]
  },
  {
   "cell_type": "markdown",
   "id": "284f9359",
   "metadata": {},
   "source": [
    "### Filtrando DataFrames com elementos Strings\n",
    "Pandas oferece diversas funções para manipulação de strings.\n",
    "As funções startswith() e endswith() são muito utilizadas para filtragem de strings"
   ]
  },
  {
   "cell_type": "code",
   "execution_count": null,
   "id": "502464f9",
   "metadata": {},
   "outputs": [],
   "source": [
    "df.head()"
   ]
  },
  {
   "cell_type": "code",
   "execution_count": null,
   "id": "75d40473",
   "metadata": {},
   "outputs": [],
   "source": [
    "# Filtro dos elementos que iniciam com os caractes: 'Con'\n",
    "df[ df.Segmento.str.startswith('Con') ].head()"
   ]
  },
  {
   "cell_type": "code",
   "execution_count": null,
   "id": "0a96475c",
   "metadata": {},
   "outputs": [],
   "source": [
    "# Filtro dos elementos que terminam com os caractes: 'mar'\n",
    "df[ df.Segmento.str.endswith('mer') ].head()"
   ]
  },
  {
   "cell_type": "code",
   "execution_count": null,
   "id": "23baf060",
   "metadata": {},
   "outputs": [],
   "source": []
  }
 ],
 "metadata": {
  "kernelspec": {
   "display_name": "Python 3 (ipykernel)",
   "language": "python",
   "name": "python3"
  },
  "language_info": {
   "codemirror_mode": {
    "name": "ipython",
    "version": 3
   },
   "file_extension": ".py",
   "mimetype": "text/x-python",
   "name": "python",
   "nbconvert_exporter": "python",
   "pygments_lexer": "ipython3",
   "version": "3.11.7"
  }
 },
 "nbformat": 4,
 "nbformat_minor": 5
}
