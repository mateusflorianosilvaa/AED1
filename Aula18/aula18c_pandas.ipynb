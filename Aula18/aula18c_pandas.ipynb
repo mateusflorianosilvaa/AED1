{
 "cells": [
  {
   "cell_type": "markdown",
   "id": "28c979af",
   "metadata": {},
   "source": [
    "# AULA 18 - Noções do pacote PANDAS -  parte C\n",
    "## Algoritmos e Estrutura de Dados I - Prof. Piva\n",
    "-----------"
   ]
  },
  {
   "cell_type": "markdown",
   "id": "6e23b207",
   "metadata": {},
   "source": [
    "### Dividindo Strings em DataFrames com Pandas (split)\n",
    "Com Pandas, podemos fazer várias tarefas de divisão (split) de strings, dividindo colunas ou extraindo elementos."
   ]
  },
  {
   "cell_type": "code",
   "execution_count": null,
   "id": "043c4e25",
   "metadata": {},
   "outputs": [],
   "source": [
    "# Importando o Pandas\n",
    "import pandas as pd\n",
    "# Verificando a Versão do Pandas\n",
    "pd.__version__"
   ]
  },
  {
   "cell_type": "code",
   "execution_count": null,
   "id": "b02a2dbb",
   "metadata": {},
   "outputs": [],
   "source": [
    "# Importando um dataset que está em um arquivo CSV\n",
    "df = pd.read_csv(\"dataset.csv\")"
   ]
  },
  {
   "cell_type": "code",
   "execution_count": null,
   "id": "d39b9ae7",
   "metadata": {},
   "outputs": [],
   "source": [
    "df.head()"
   ]
  },
  {
   "cell_type": "code",
   "execution_count": null,
   "id": "1757f798",
   "metadata": {},
   "outputs": [],
   "source": [
    "df['ID_Pedido'].head()"
   ]
  },
  {
   "cell_type": "markdown",
   "id": "5e5efa4f",
   "metadata": {},
   "source": [
    "Ao analisarmos o ID_Pedido, verificamos que o mesmo é composto por 3 informações: O pais (com duas letras), o ano (4 digitos) e o número do pedido com 6 digitos.\n",
    "Podemos dividir esses dados utilizando split. O resultado será uma lista com os elementos divididos."
   ]
  },
  {
   "cell_type": "code",
   "execution_count": null,
   "id": "d3a619d6",
   "metadata": {},
   "outputs": [],
   "source": [
    "df['ID_Pedido'].str.split('-')"
   ]
  },
  {
   "cell_type": "markdown",
   "id": "d5eb76db",
   "metadata": {},
   "source": [
    "Note que o resultado apresenta uma lista... e cada elemento pode ser acessado pelo seu índice: 0, 1 ou 2.\n",
    "Se quisermos extrair apenas o ano, utilizamos o índice 1."
   ]
  },
  {
   "cell_type": "code",
   "execution_count": null,
   "id": "c0bbb5a7",
   "metadata": {},
   "outputs": [],
   "source": [
    "df['ID_Pedido'].str.split('-').str[1].head()"
   ]
  },
  {
   "cell_type": "markdown",
   "id": "33cad35d",
   "metadata": {},
   "source": [
    "Vamos agora pegar esse resultado e gravar em uma nova coluna do DataFrame... chamada \"Ano\"."
   ]
  },
  {
   "cell_type": "code",
   "execution_count": null,
   "id": "9245b07d",
   "metadata": {},
   "outputs": [],
   "source": [
    "df['Ano'] = df['ID_Pedido'].str.split('-').str[1]"
   ]
  },
  {
   "cell_type": "code",
   "execution_count": null,
   "id": "b557e1fd",
   "metadata": {},
   "outputs": [],
   "source": [
    "#Vamos conferir se a coluna foi criada...\n",
    "df.head()"
   ]
  },
  {
   "cell_type": "markdown",
   "id": "e20e36b6",
   "metadata": {},
   "source": [
    "### Strip de Strings em DataFrames em Pandas\n",
    "Remove caracteres da String"
   ]
  },
  {
   "cell_type": "code",
   "execution_count": null,
   "id": "82bf6366",
   "metadata": {},
   "outputs": [],
   "source": [
    "df['Data_Pedido'].head()"
   ]
  },
  {
   "cell_type": "markdown",
   "id": "217fd505",
   "metadata": {},
   "source": [
    "Vamos supor que precisamos simplificar a data, e deixar o ano apenas com dois digitos... removendo os dois primeiros caracteres '20'."
   ]
  },
  {
   "cell_type": "code",
   "execution_count": null,
   "id": "d69bb779",
   "metadata": {},
   "outputs": [],
   "source": [
    "df['Data_Pedido'].str.lstrip('20')"
   ]
  },
  {
   "cell_type": "markdown",
   "id": "4033a6a6",
   "metadata": {},
   "source": [
    "Como dito anteriormente... os comandos do Pandas, não alteram os valores originais do dataframe.\n",
    "Se quiser alterar, temos que utilizar o parâmetro inplace = True."
   ]
  },
  {
   "cell_type": "markdown",
   "id": "5c8e572f",
   "metadata": {},
   "source": [
    "### Substituição de Strings em DataFrames Pandas (replace)\n",
    "Podemos fazer a substituição de caracteres utilizando o método replace()"
   ]
  },
  {
   "cell_type": "code",
   "execution_count": null,
   "id": "7efa610d",
   "metadata": {},
   "outputs": [],
   "source": [
    "df.head()"
   ]
  },
  {
   "cell_type": "code",
   "execution_count": null,
   "id": "9fdac42e",
   "metadata": {},
   "outputs": [],
   "source": [
    "df['ID_Cliente'] = df['ID_Cliente'].str.replace('CG', 'AX')"
   ]
  },
  {
   "cell_type": "code",
   "execution_count": null,
   "id": "8635cc87",
   "metadata": {},
   "outputs": [],
   "source": [
    "df.head()"
   ]
  },
  {
   "cell_type": "markdown",
   "id": "9cd6dc99",
   "metadata": {},
   "source": [
    "### Combinação de Strings em DataFrames Pandas\n",
    "A função cat() pode ser utilizado para concatenar strings em um dataframe.\n",
    "Vamos fazer a junção (concatenação) das colunas \"ID_Pedido\" e \"Segmento\""
   ]
  },
  {
   "cell_type": "code",
   "execution_count": null,
   "id": "4f5b07e1",
   "metadata": {},
   "outputs": [],
   "source": [
    "df['Pedido_Segmento'] = df['ID_Pedido'].str.cat(df['Segmento'], sep = '-')"
   ]
  },
  {
   "cell_type": "code",
   "execution_count": null,
   "id": "bc03710e",
   "metadata": {},
   "outputs": [],
   "source": [
    "df.head()"
   ]
  },
  {
   "cell_type": "markdown",
   "id": "37695954",
   "metadata": {},
   "source": [
    "### Construção de Gráficos a partir de DataFrames Pandas\n",
    "Além de todos os processos de manipulação de dados, o Pandas também possui algumas funções para exibição de gráficos a partir de dataframes. Vamos ver alguns exemplos..."
   ]
  },
  {
   "cell_type": "code",
   "execution_count": null,
   "id": "bde946c1",
   "metadata": {},
   "outputs": [],
   "source": [
    "# Vamos instalar a versão do Scikit-Learn para termos acesso ao dataset Iris\n",
    "!pip install -q scikit-learn==1.2.1\n",
    "import sklearn\n",
    "sklearn.__version__"
   ]
  },
  {
   "cell_type": "code",
   "execution_count": null,
   "id": "c5ca1727",
   "metadata": {},
   "outputs": [],
   "source": [
    "#Vmos importar o dataset Iris\n",
    "from sklearn.datasets import load_iris\n",
    "data = load_iris()"
   ]
  },
  {
   "cell_type": "code",
   "execution_count": null,
   "id": "9342200d",
   "metadata": {},
   "outputs": [],
   "source": [
    "df_iris = pd.DataFrame(data['data'], columns = data['feature_names'])\n",
    "df_iris['species'] = data['target']\n",
    "df_iris.head()"
   ]
  },
  {
   "cell_type": "code",
   "execution_count": null,
   "id": "3514b394",
   "metadata": {},
   "outputs": [],
   "source": [
    "df_iris.plot()"
   ]
  },
  {
   "cell_type": "code",
   "execution_count": null,
   "id": "6ec61c6f",
   "metadata": {},
   "outputs": [],
   "source": [
    "df_iris.plot.scatter(x = 'sepal length (cm)', y = 'sepal width (cm)')"
   ]
  },
  {
   "cell_type": "code",
   "execution_count": null,
   "id": "39fd6890",
   "metadata": {},
   "outputs": [],
   "source": [
    "#Gráficos mais complexos, com área...\n",
    "columns = ['sepal length (cm)', 'petal length (cm)', 'petal width (cm)', 'sepal width (cm)']\n",
    "df_iris[columns].plot.area()"
   ]
  },
  {
   "cell_type": "code",
   "execution_count": null,
   "id": "0f62fe24",
   "metadata": {},
   "outputs": [],
   "source": [
    "# Calculando a média das colunas agrupadas pela coluna species e criando um gráfico de barras com o resultado\n",
    "df_iris.groupby('species').mean().plot.bar()"
   ]
  },
  {
   "cell_type": "code",
   "execution_count": null,
   "id": "fe4b5f37",
   "metadata": {},
   "outputs": [],
   "source": [
    "#Contagem das classes da coluna species e plotamos um gráfico de pizza\n",
    "df_iris.groupby('species').count().plot.pie(y = 'sepal length (cm)')"
   ]
  },
  {
   "cell_type": "markdown",
   "id": "33134381",
   "metadata": {},
   "source": [
    "## Fim Aula 18"
   ]
  }
 ],
 "metadata": {
  "kernelspec": {
   "display_name": "Python 3 (ipykernel)",
   "language": "python",
   "name": "python3"
  },
  "language_info": {
   "codemirror_mode": {
    "name": "ipython",
    "version": 3
   },
   "file_extension": ".py",
   "mimetype": "text/x-python",
   "name": "python",
   "nbconvert_exporter": "python",
   "pygments_lexer": "ipython3",
   "version": "3.11.8"
  }
 },
 "nbformat": 4,
 "nbformat_minor": 5
}
