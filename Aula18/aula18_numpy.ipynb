{
 "cells": [
  {
   "cell_type": "markdown",
   "id": "9697d49f",
   "metadata": {},
   "source": [
    "# AULA 18 - Noções de Numpy\n",
    "## Algoritmos e Estrutura de Dados I"
   ]
  },
  {
   "cell_type": "code",
   "execution_count": null,
   "id": "bd103f35",
   "metadata": {},
   "outputs": [],
   "source": [
    "#importando o NumPy\n",
    "import numpy as np"
   ]
  },
  {
   "cell_type": "code",
   "execution_count": null,
   "id": "34f8807c",
   "metadata": {},
   "outputs": [],
   "source": [
    "#verificando a versão do numpy\n",
    "np.__version__"
   ]
  },
  {
   "cell_type": "code",
   "execution_count": null,
   "id": "7f7d1d62",
   "metadata": {},
   "outputs": [],
   "source": [
    "# Para instalação de uma versão exata de um pacote Python\n",
    "# !pip install numpy==1.21.5"
   ]
  },
  {
   "cell_type": "markdown",
   "id": "023a5e39",
   "metadata": {},
   "source": [
    "### Criando Arrays Numpy"
   ]
  },
  {
   "cell_type": "code",
   "execution_count": null,
   "id": "a385ad12",
   "metadata": {},
   "outputs": [],
   "source": [
    "#Criando um Array a partir de uma lista Python\n",
    "array1 = np.array([2, 5, 10, 34, 23, 9, 73, 21, 6])"
   ]
  },
  {
   "cell_type": "code",
   "execution_count": null,
   "id": "aab7a98d",
   "metadata": {},
   "outputs": [],
   "source": [
    "print(array1)"
   ]
  },
  {
   "cell_type": "code",
   "execution_count": null,
   "id": "555ac1dc",
   "metadata": {},
   "outputs": [],
   "source": [
    "#Conformando o tipo de dados do array criado\n",
    "type(array1)"
   ]
  },
  {
   "cell_type": "code",
   "execution_count": null,
   "id": "16dccae0",
   "metadata": {},
   "outputs": [],
   "source": [
    "#ndarray - n dimensional array - array de dimensão n\n",
    "\n",
    "#Vamos ver o formato (shape) desse array\n",
    "array1.shape"
   ]
  },
  {
   "cell_type": "code",
   "execution_count": null,
   "id": "e024d02f",
   "metadata": {},
   "outputs": [],
   "source": [
    "# Os arrays são estruturas de dados muito mais eficientes do que os tipos básicos da linguagem Python."
   ]
  },
  {
   "cell_type": "markdown",
   "id": "62adc950",
   "metadata": {},
   "source": [
    "### Indexação em Arrays NumPy"
   ]
  },
  {
   "cell_type": "code",
   "execution_count": null,
   "id": "49c5c787",
   "metadata": {},
   "outputs": [],
   "source": [
    "print(array1)"
   ]
  },
  {
   "cell_type": "code",
   "execution_count": null,
   "id": "77a32eb0",
   "metadata": {},
   "outputs": [],
   "source": [
    "array1[5]"
   ]
  },
  {
   "cell_type": "code",
   "execution_count": null,
   "id": "18a3622d",
   "metadata": {},
   "outputs": [],
   "source": [
    "# A indexação inicia com ZERO.\n",
    "\n",
    "# Também posso fazer o fatiamento:\n",
    "array1[1:4]"
   ]
  },
  {
   "cell_type": "code",
   "execution_count": null,
   "id": "faa3fd91",
   "metadata": {},
   "outputs": [],
   "source": [
    "# criando uma lista de índices\n",
    "indices = [1, 3, 6, 8]"
   ]
  },
  {
   "cell_type": "code",
   "execution_count": null,
   "id": "3934396f",
   "metadata": {},
   "outputs": [],
   "source": [
    "# Imprimindo os lementos com os respectivos índices:\n",
    "array1[indices]"
   ]
  },
  {
   "cell_type": "code",
   "execution_count": null,
   "id": "92c610fc",
   "metadata": {},
   "outputs": [],
   "source": [
    "# Criando uma máscara (no caso vamos criar uma máscara booleana para os elementos pares)\n",
    "mascara = (array1 % 2 == 0)"
   ]
  },
  {
   "cell_type": "code",
   "execution_count": null,
   "id": "32fc4ffa",
   "metadata": {},
   "outputs": [],
   "source": [
    "# Vamos ver a máscara criada...\n",
    "mascara"
   ]
  },
  {
   "cell_type": "code",
   "execution_count": null,
   "id": "0d215098",
   "metadata": {},
   "outputs": [],
   "source": [
    "# Vamos utilizar a máscara criada como indexador. No caso, ele vai retornar os elementos cujos índices forem verdadeiros.\n",
    "# Ou seja... vai retornar todos os valore que são pares.\n",
    "array1[mascara]"
   ]
  },
  {
   "cell_type": "code",
   "execution_count": null,
   "id": "cf18dd3f",
   "metadata": {},
   "outputs": [],
   "source": [
    "# Utilizamos a indexação também para fazer a substituição de valores...\n",
    "array1[0] = 200"
   ]
  },
  {
   "cell_type": "code",
   "execution_count": null,
   "id": "84c52a0e",
   "metadata": {},
   "outputs": [],
   "source": [
    "array1"
   ]
  },
  {
   "cell_type": "code",
   "execution_count": null,
   "id": "fcb887c7",
   "metadata": {},
   "outputs": [],
   "source": [
    "# Atemção!!!\n",
    "# Não é possível incluir elementos de outros tipos de dados.\n",
    "# Arrays NumPy são todos do mesmo tipo de dado."
   ]
  },
  {
   "cell_type": "markdown",
   "id": "4399ab51",
   "metadata": {},
   "source": [
    "### Funções NumPy"
   ]
  },
  {
   "cell_type": "code",
   "execution_count": null,
   "id": "94eb87af",
   "metadata": {},
   "outputs": [],
   "source": [
    "# A função array() cria um array NumPy\n",
    "array2 = np.array([1,2,3,4,5])"
   ]
  },
  {
   "cell_type": "code",
   "execution_count": null,
   "id": "e6f35ddf",
   "metadata": {},
   "outputs": [],
   "source": [
    "print(array2)"
   ]
  },
  {
   "cell_type": "code",
   "execution_count": null,
   "id": "b21f248d",
   "metadata": {},
   "outputs": [],
   "source": [
    "array2.shape"
   ]
  },
  {
   "cell_type": "code",
   "execution_count": null,
   "id": "1f548569",
   "metadata": {},
   "outputs": [],
   "source": [
    "# array2 agora é um objeto do tipo nd.array... e portanto possuem uma série de métodos associados a este objeto.\n",
    "# para visualizar os métodos... digite o nome... ponto... e tecle tab.\n",
    "array2"
   ]
  },
  {
   "cell_type": "code",
   "execution_count": null,
   "id": "04bbc745",
   "metadata": {},
   "outputs": [],
   "source": [
    "#Usando os métodos do array NumPy...\n",
    "#cumsum --> soma acumulada\n",
    "array2.cumsum()"
   ]
  },
  {
   "cell_type": "code",
   "execution_count": null,
   "id": "3a95ebcc",
   "metadata": {},
   "outputs": [],
   "source": [
    "#cumprod --> produto acumulado\n",
    "array2.cumprod()"
   ]
  },
  {
   "cell_type": "code",
   "execution_count": null,
   "id": "fc5210ce",
   "metadata": {},
   "outputs": [],
   "source": [
    "# Para verificar as funções disponíveis em NumPy... digite o alias (np) seguido de ponto e tab.\n",
    "np"
   ]
  },
  {
   "cell_type": "code",
   "execution_count": null,
   "id": "2899c9c4",
   "metadata": {},
   "outputs": [],
   "source": [
    "# Função arange --> cria um array NumPy contendo uma progressão aritmética a partir de um intervalo: inicio, fim, passo.\n",
    "array3 = np.arange(0, 40, 4)"
   ]
  },
  {
   "cell_type": "code",
   "execution_count": null,
   "id": "d59b78c5",
   "metadata": {},
   "outputs": [],
   "source": [
    "array3"
   ]
  },
  {
   "cell_type": "code",
   "execution_count": null,
   "id": "6125b309",
   "metadata": {},
   "outputs": [],
   "source": [
    "# Criar um array preenchido com zeros\n",
    "array4 = np.zeros(7)"
   ]
  },
  {
   "cell_type": "code",
   "execution_count": null,
   "id": "db0a984f",
   "metadata": {},
   "outputs": [],
   "source": [
    "array4"
   ]
  },
  {
   "cell_type": "code",
   "execution_count": null,
   "id": "bc5462fa",
   "metadata": {},
   "outputs": [],
   "source": [
    "# Criar uma matriz diagonal... 1 nas posições em diagonal e zero nas demais posições\n",
    "array5 = np.eye(5)"
   ]
  },
  {
   "cell_type": "code",
   "execution_count": null,
   "id": "b4018a5f",
   "metadata": {},
   "outputs": [],
   "source": [
    "print(array5)"
   ]
  },
  {
   "cell_type": "code",
   "execution_count": null,
   "id": "45d8612b",
   "metadata": {},
   "outputs": [],
   "source": [
    "# Podemos passar como parâmetro um array numpy para que o mesmo seja utilizado como diagonal...\n",
    "array6 = np.diag(np.array([1,2,3,4]))"
   ]
  },
  {
   "cell_type": "code",
   "execution_count": null,
   "id": "31b3af1f",
   "metadata": {},
   "outputs": [],
   "source": [
    "print(array6)"
   ]
  },
  {
   "cell_type": "code",
   "execution_count": null,
   "id": "6ab3f1c7",
   "metadata": {},
   "outputs": [],
   "source": [
    "# Criação de um array numpy de valores booleanos\n",
    "array7 = np.array([True, False, False, True])"
   ]
  },
  {
   "cell_type": "code",
   "execution_count": null,
   "id": "f7059bf2",
   "metadata": {},
   "outputs": [],
   "source": [
    "print(array7)"
   ]
  },
  {
   "cell_type": "code",
   "execution_count": null,
   "id": "a52ce955",
   "metadata": {},
   "outputs": [],
   "source": [
    "# Criação de um array numpy de strings\n",
    "array8 = np.array(['pyPRO', 'Python', 'Profissional'])"
   ]
  },
  {
   "cell_type": "code",
   "execution_count": null,
   "id": "3cae5a0e",
   "metadata": {},
   "outputs": [],
   "source": [
    "print(array8)"
   ]
  },
  {
   "cell_type": "markdown",
   "id": "2f296fd0",
   "metadata": {},
   "source": [
    "A função linspace() do NumPy é usada para criar uma sequência de números igualmente espaçados dentro de um intervalo especificado. Igualmente distribuidos no intervalo especificado.  Quando você não especificar a quantidade de números a ser gerado, o padrão é gerar 50 números no intervalo."
   ]
  },
  {
   "cell_type": "code",
   "execution_count": null,
   "id": "abda2cae",
   "metadata": {},
   "outputs": [],
   "source": [
    "print(np.linspace(0, 10))"
   ]
  },
  {
   "cell_type": "code",
   "execution_count": null,
   "id": "11b72d8b",
   "metadata": {},
   "outputs": [],
   "source": [
    "print(np.linspace(0, 10, 15))"
   ]
  },
  {
   "cell_type": "markdown",
   "id": "01795ae4",
   "metadata": {},
   "source": [
    "Muito útil para inicializar uma matriz de pesos, em uma rede neural."
   ]
  },
  {
   "cell_type": "markdown",
   "id": "9243331e",
   "metadata": {},
   "source": [
    "A função logspace() é semelhante, só que cria uma sequencia de números espaçados logaritmicamente, dentro de um intervalo especificado."
   ]
  },
  {
   "cell_type": "code",
   "execution_count": null,
   "id": "e6067b2d",
   "metadata": {},
   "outputs": [],
   "source": [
    "print(np.logspace(0, 10, 15))"
   ]
  },
  {
   "cell_type": "markdown",
   "id": "05583967",
   "metadata": {},
   "source": [
    "### Manipulação de Matrizes com NumPy"
   ]
  },
  {
   "cell_type": "code",
   "execution_count": null,
   "id": "454b4afc",
   "metadata": {},
   "outputs": [],
   "source": [
    "# Criando uma matriz com listas Python\n",
    "array9 = np.array([[1,2,3],[4,5,6]])"
   ]
  },
  {
   "cell_type": "code",
   "execution_count": null,
   "id": "4caf92f6",
   "metadata": {},
   "outputs": [],
   "source": [
    "type(array9)"
   ]
  },
  {
   "cell_type": "code",
   "execution_count": null,
   "id": "63e38e09",
   "metadata": {},
   "outputs": [],
   "source": [
    "print(array9)"
   ]
  },
  {
   "cell_type": "code",
   "execution_count": null,
   "id": "ecc71338",
   "metadata": {},
   "outputs": [],
   "source": [
    "print(array9.shape)"
   ]
  },
  {
   "cell_type": "code",
   "execution_count": null,
   "id": "d067b9f4",
   "metadata": {},
   "outputs": [],
   "source": [
    "# Criando uma matriz preenchida com \"1\"\n",
    "array10 = np.ones((2,3))"
   ]
  },
  {
   "cell_type": "code",
   "execution_count": null,
   "id": "7a58d575",
   "metadata": {},
   "outputs": [],
   "source": [
    "print(array10)"
   ]
  },
  {
   "cell_type": "code",
   "execution_count": null,
   "id": "b83bf26b",
   "metadata": {},
   "outputs": [],
   "source": [
    "print(array10.shape)"
   ]
  },
  {
   "cell_type": "code",
   "execution_count": null,
   "id": "8ba711d4",
   "metadata": {},
   "outputs": [],
   "source": [
    "# Criando uma matriz a partir de uma lista de listas....\n",
    "# Primeiro: vamos criar uma lista de listas\n",
    "lista = [[1,2,3], [4,5,6], [7,8,9]]\n",
    "\n",
    "# Em seguida, passamos como parãmetro essa lista de listas para a função matrix\n",
    "array11 = np.matrix(lista)"
   ]
  },
  {
   "cell_type": "code",
   "execution_count": null,
   "id": "9381d9f9",
   "metadata": {},
   "outputs": [],
   "source": [
    "print(array11)"
   ]
  },
  {
   "cell_type": "code",
   "execution_count": null,
   "id": "dbe497b8",
   "metadata": {},
   "outputs": [],
   "source": [
    "print(array11.shape)"
   ]
  },
  {
   "cell_type": "code",
   "execution_count": null,
   "id": "3bf4713e",
   "metadata": {},
   "outputs": [],
   "source": [
    "type(array11)"
   ]
  },
  {
   "cell_type": "code",
   "execution_count": null,
   "id": "66c247e9",
   "metadata": {},
   "outputs": [],
   "source": [
    "# Tamanho da matriz\n",
    "array11.size"
   ]
  },
  {
   "cell_type": "code",
   "execution_count": null,
   "id": "f1f41f33",
   "metadata": {},
   "outputs": [],
   "source": [
    "# Verificando o tipo de dado\n",
    "print(array11.dtype)"
   ]
  },
  {
   "cell_type": "code",
   "execution_count": null,
   "id": "5748e342",
   "metadata": {},
   "outputs": [],
   "source": [
    "# Indexação em matrizes\n",
    "print(array11)\n",
    "\n",
    "# Vamos retornar apenas o elemento 2, 1 (terceira linha e segunda coluna)\n",
    "print(array11[2, 1])"
   ]
  },
  {
   "cell_type": "code",
   "execution_count": null,
   "id": "38b20791",
   "metadata": {},
   "outputs": [],
   "source": [
    "# Retornando um range de números...\n",
    "print(array11[0:2, 2])"
   ]
  },
  {
   "cell_type": "code",
   "execution_count": null,
   "id": "ebf6ca75",
   "metadata": {},
   "outputs": [],
   "source": [
    "# Também posso, por exclusão, retornar todos os elementos daquela dimensão.\n",
    "# Exemplo: retornar todos os elementos da linha 2 (índice 1)\n",
    "print(array11[1,])"
   ]
  },
  {
   "cell_type": "code",
   "execution_count": null,
   "id": "4e076aac",
   "metadata": {},
   "outputs": [],
   "source": [
    "# Para alterar um elemento de uma matriz... \n",
    "array11[1,0] = 200"
   ]
  },
  {
   "cell_type": "code",
   "execution_count": null,
   "id": "e0da9c2b",
   "metadata": {},
   "outputs": [],
   "source": [
    "print(array11)"
   ]
  },
  {
   "cell_type": "code",
   "execution_count": null,
   "id": "dd3532e7",
   "metadata": {},
   "outputs": [],
   "source": [
    "# Caso não haja a definição de um tipo de dados, o NumPy vai fazer uma inferência com os dados e assim associar um tipo\n",
    "# mais próximo do tipo de dado.\n",
    "x = np.array([1,2])   # vai decidir para um tipo inteiro\n",
    "y = np.array([1.0, 2.0])  # vai decidir para um tipo float\n",
    "z = np.array([1,2], dtype = np.float64)  # estamos forçando o numpy a associar o tipo float aqui."
   ]
  },
  {
   "cell_type": "code",
   "execution_count": null,
   "id": "b73b84ee",
   "metadata": {},
   "outputs": [],
   "source": [
    "print(x.dtype, y.dtype, z.dtype)"
   ]
  },
  {
   "cell_type": "markdown",
   "id": "80aea770",
   "metadata": {},
   "source": [
    "Para verificar o número de bytes de ocupação de um array na memória utilizamos o atributo itemsize. O total de bytes, você pode consultar com nbytes. E o número de dimensões é conseguido com o atributo: ndim"
   ]
  },
  {
   "cell_type": "code",
   "execution_count": null,
   "id": "7ef86afc",
   "metadata": {},
   "outputs": [],
   "source": [
    "array11.itemsize\n"
   ]
  },
  {
   "cell_type": "code",
   "execution_count": null,
   "id": "250cd76f",
   "metadata": {},
   "outputs": [],
   "source": [
    "array11.nbytes"
   ]
  },
  {
   "cell_type": "code",
   "execution_count": null,
   "id": "f279e09e",
   "metadata": {},
   "outputs": [],
   "source": [
    "array11.ndim"
   ]
  },
  {
   "cell_type": "markdown",
   "id": "ebed5013",
   "metadata": {},
   "source": [
    "### Estatística Básica com NumPy"
   ]
  },
  {
   "cell_type": "code",
   "execution_count": null,
   "id": "7ad27ada",
   "metadata": {},
   "outputs": [],
   "source": [
    "array15 = np.array([1, 23, 45, 12, 56, 87])"
   ]
  },
  {
   "cell_type": "code",
   "execution_count": null,
   "id": "940a21f9",
   "metadata": {},
   "outputs": [],
   "source": [
    "# Em estatística, média é uma medida de tendência central que representa o valor central de um conjunto de dados.\n",
    "print(np.mean(array15))"
   ]
  },
  {
   "cell_type": "markdown",
   "id": "69490275",
   "metadata": {},
   "source": [
    "Em probabilidade, o desvio padrão ou desvio padrão populacional é uma medida de dispersão em torno da média populacional de uma variável aleatória. O termo possui também uma acepção específica no campo da estatística, na qual também é chamado de desvio padrão amostral  e indica uma medida de dispersão dos dados em torno de média amostral. Um baixo desvio padrão indica que os pontos dos dados tendem a estar próximos da média ou do valor esperado. Um alto desvio padrão indica que os pontos dos dados estão espalhados por uma ampla gama de valores. \n",
    "O desvio padrão é amplamente utilizado em ciência de dados para avaliar a consistência dos dados e comparar conjuntos de dados diferentes."
   ]
  },
  {
   "cell_type": "code",
   "execution_count": null,
   "id": "1467c8b5",
   "metadata": {},
   "outputs": [],
   "source": [
    "# Desvio Padrão (standard desviation )\n",
    "print(np.std(array15))"
   ]
  },
  {
   "cell_type": "markdown",
   "id": "764d4adf",
   "metadata": {},
   "source": [
    "Variância é uma medida estatística que quantifica dos valores em um conjunto de dados em relação à média. Indica \"o quão longe\" em geral os seus valores se encontram do valor esperado.  O desvio padrão pode ser influenciado por valores extremos (outliers)."
   ]
  },
  {
   "cell_type": "code",
   "execution_count": null,
   "id": "36bd65d7",
   "metadata": {},
   "outputs": [],
   "source": [
    "# Cálculo da variância\n",
    "print(np.var(array15))"
   ]
  },
  {
   "cell_type": "markdown",
   "id": "3471bc10",
   "metadata": {},
   "source": [
    "Note que o valor da variância não se encontra na mesma \"medida\" do desvio padrão e das amostras. É utilizado para calcular matriz de covariância e coeficiente de correlação."
   ]
  },
  {
   "cell_type": "markdown",
   "id": "152b6eae",
   "metadata": {},
   "source": [
    "### Operações Matemáticas utilizando Arrays NumPy"
   ]
  },
  {
   "cell_type": "code",
   "execution_count": null,
   "id": "08c9e485",
   "metadata": {},
   "outputs": [],
   "source": [
    "array16 = np.arange(1, 10)"
   ]
  },
  {
   "cell_type": "code",
   "execution_count": null,
   "id": "48e33773",
   "metadata": {},
   "outputs": [],
   "source": [
    "print(array16)"
   ]
  },
  {
   "cell_type": "code",
   "execution_count": null,
   "id": "f55dcecb",
   "metadata": {},
   "outputs": [],
   "source": [
    "# Soma os elementos de um array\n",
    "print(np.sum(array16))"
   ]
  },
  {
   "cell_type": "code",
   "execution_count": null,
   "id": "90af0cbc",
   "metadata": {},
   "outputs": [],
   "source": [
    "# Calcula o produto dos elementos de um array\n",
    "print(np.prod(array16))"
   ]
  },
  {
   "cell_type": "code",
   "execution_count": null,
   "id": "6806a7d3",
   "metadata": {},
   "outputs": [],
   "source": [
    "# Soma acumulado dos elementos de um array\n",
    "print(np.cumsum(array16))"
   ]
  },
  {
   "cell_type": "code",
   "execution_count": null,
   "id": "42837221",
   "metadata": {},
   "outputs": [],
   "source": [
    "# Criando dois Arrays...\n",
    "array17 = np.array([1,2,3])\n",
    "array18 = np.array([3,2,1])\n",
    "\n",
    "# Soma dos arrays\n",
    "array19 = np.add(array17, array18)\n",
    "print(array19)"
   ]
  },
  {
   "cell_type": "code",
   "execution_count": null,
   "id": "b236387c",
   "metadata": {},
   "outputs": [],
   "source": [
    "# Para multiplicar duas matrizes numpy, podemos fazer com a função dot()\n",
    "array20 = np.dot(array17, array18)\n",
    "print(array20)"
   ]
  },
  {
   "cell_type": "markdown",
   "id": "10224371",
   "metadata": {},
   "source": [
    "Para podermos multiplicar duas matrizes, o número de colunas da primeira, tem que ser igual ao número de linhas da segunda."
   ]
  },
  {
   "cell_type": "markdown",
   "id": "956a06de",
   "metadata": {},
   "source": [
    "# FIM"
   ]
  }
 ],
 "metadata": {
  "kernelspec": {
   "display_name": "Python 3 (ipykernel)",
   "language": "python",
   "name": "python3"
  },
  "language_info": {
   "codemirror_mode": {
    "name": "ipython",
    "version": 3
   },
   "file_extension": ".py",
   "mimetype": "text/x-python",
   "name": "python",
   "nbconvert_exporter": "python",
   "pygments_lexer": "ipython3",
   "version": "3.11.8"
  }
 },
 "nbformat": 4,
 "nbformat_minor": 5
}
